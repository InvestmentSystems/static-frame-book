{
 "cells": [
  {
   "cell_type": "markdown",
   "id": "funded-charles",
   "metadata": {},
   "source": [
    "# staticframe (chapter placeholder)"
   ]
  },
  {
   "cell_type": "markdown",
   "id": "renewable-highlight",
   "metadata": {},
   "source": [
    "```{warning}\n",
    "Main Heading (start with the single # and then go to ##. dont skip to ###)\n",
    "```"
   ]
  },
  {
   "cell_type": "code",
   "execution_count": 1,
   "id": "spectacular-spectacular",
   "metadata": {
    "tags": [
     "hide-cell"
    ]
   },
   "outputs": [],
   "source": [
    "import static_frame as sf"
   ]
  },
  {
   "cell_type": "markdown",
   "id": "moral-hayes",
   "metadata": {},
   "source": [
    "Lorem ipsum dolor sit amet, consectetur adipiscing elit, sed do eiusmod tempor incididunt ut labore et dolore magna aliqua. Ut enim ad minim veniam, quis nostrud exercitation ullamco laboris nisi ut aliquip ex ea commodo consequat. Duis aute irure dolor in reprehenderit in voluptate velit esse cillum dolore eu fugiat nulla pariatur. Excepteur sint occaecat cupidatat non proident, sunt in culpa qui officia deserunt mollit anim id est laborum..."
   ]
  },
  {
   "cell_type": "markdown",
   "id": "usual-smile",
   "metadata": {},
   "source": [
    "```{warning}\n",
    "This notebook is only a placeholder for actual chapters.\n",
    "```"
   ]
  },
  {
   "cell_type": "markdown",
   "id": "collect-synthesis",
   "metadata": {},
   "source": [
    "```{note}\n",
    "This is an example note.\n",
    "```"
   ]
  },
  {
   "cell_type": "markdown",
   "id": "dangerous-bride",
   "metadata": {},
   "source": [
    "## Second Heading (ie creating a sample frame)"
   ]
  },
  {
   "cell_type": "code",
   "execution_count": 2,
   "id": "blessed-router",
   "metadata": {},
   "outputs": [
    {
     "data": {
      "text/html": [
       "<table border=\"1\"><thead><tr><th></th><th>a</th><th>b</th><th>c</th></tr></thead><tbody><tr><th>0</th><td>2</td><td>True</td><td>10</td></tr><tr><th>1</th><td>2</td><td>False</td><td>20</td></tr></tbody></table>"
      ],
      "text/plain": [
       "<Frame>\n",
       "<Index> a       b      c     <<U1>\n",
       "<Index>\n",
       "0       2       True   10\n",
       "1       2       False  20\n",
       "<int64> <int64> <bool> <<U2>"
      ]
     },
     "execution_count": 2,
     "metadata": {},
     "output_type": "execute_result"
    }
   ],
   "source": [
    "f = sf.Frame.from_dict(dict(a=(2,2),b=(True,False),c=('10','20')))\n",
    "f"
   ]
  },
  {
   "cell_type": "markdown",
   "id": "premier-portfolio",
   "metadata": {},
   "source": [
    "### Third Heading (ie selecting column data)"
   ]
  },
  {
   "cell_type": "code",
   "execution_count": 3,
   "id": "effective-helicopter",
   "metadata": {},
   "outputs": [
    {
     "data": {
      "text/html": [
       "<table border=\"1\"><tbody><tr><th>0</th><td>10</td></tr><tr><th>1</th><td>20</td></tr></tbody></table>"
      ],
      "text/plain": [
       "<Series: c>\n",
       "<Index>\n",
       "0           10\n",
       "1           20\n",
       "<int64>     <<U2>"
      ]
     },
     "execution_count": 3,
     "metadata": {},
     "output_type": "execute_result"
    }
   ],
   "source": [
    "f.loc[:,'c']"
   ]
  },
  {
   "cell_type": "markdown",
   "id": "closing-military",
   "metadata": {},
   "source": [
    "### Third Heading (ie selecting multiple columns)"
   ]
  },
  {
   "cell_type": "code",
   "execution_count": 4,
   "id": "convenient-single",
   "metadata": {},
   "outputs": [
    {
     "data": {
      "text/html": [
       "<table border=\"1\"><thead><tr><th></th><th>b</th><th>c</th></tr></thead><tbody><tr><th>0</th><td>True</td><td>10</td></tr><tr><th>1</th><td>False</td><td>20</td></tr></tbody></table>"
      ],
      "text/plain": [
       "<Frame>\n",
       "<Index> b      c     <<U1>\n",
       "<Index>\n",
       "0       True   10\n",
       "1       False  20\n",
       "<int64> <bool> <<U2>"
      ]
     },
     "execution_count": 4,
     "metadata": {},
     "output_type": "execute_result"
    }
   ],
   "source": [
    "f[['b', 'c']]"
   ]
  },
  {
   "cell_type": "markdown",
   "id": "executed-defense",
   "metadata": {},
   "source": [
    "### Third Heading (ie selecting row data)"
   ]
  },
  {
   "cell_type": "code",
   "execution_count": 5,
   "id": "framed-venice",
   "metadata": {},
   "outputs": [
    {
     "data": {
      "text/html": [
       "<table border=\"1\"><tbody><tr><th>a</th><td>2</td></tr><tr><th>b</th><td>False</td></tr><tr><th>c</th><td>20</td></tr></tbody></table>"
      ],
      "text/plain": [
       "<Series: 1>\n",
       "<Index>\n",
       "a           2\n",
       "b           False\n",
       "c           20\n",
       "<<U1>       <object>"
      ]
     },
     "execution_count": 5,
     "metadata": {},
     "output_type": "execute_result"
    }
   ],
   "source": [
    "f.loc[1,:]"
   ]
  },
  {
   "cell_type": "markdown",
   "id": "foreign-grain",
   "metadata": {},
   "source": [
    "### Third Heading (ie selecting something else)"
   ]
  },
  {
   "cell_type": "code",
   "execution_count": null,
   "id": "according-integration",
   "metadata": {},
   "outputs": [],
   "source": []
  }
 ],
 "metadata": {
  "celltoolbar": "Edit Metadata",
  "kernelspec": {
   "display_name": "Python 3",
   "language": "python",
   "name": "python3"
  },
  "language_info": {
   "codemirror_mode": {
    "name": "ipython",
    "version": 3
   },
   "file_extension": ".py",
   "mimetype": "text/x-python",
   "name": "python",
   "nbconvert_exporter": "python",
   "pygments_lexer": "ipython3",
   "version": "3.8.3"
  }
 },
 "nbformat": 4,
 "nbformat_minor": 5
}
